{
 "cells": [
  {
   "cell_type": "code",
   "execution_count": 23,
   "id": "560c29b0-0e11-4567-b424-3eb8cd4db9d0",
   "metadata": {
    "tags": []
   },
   "outputs": [],
   "source": [
    "from argopy import DataFetcher as ArgoDataFetcher\n",
    "\n",
    "lower_lat = 20\n",
    "upper_lat = 40\n",
    "lower_long = -45\n",
    "upper_long = -25\n",
    "lower_press = 0\n",
    "upper_press = 100\n",
    "\n",
    "start = '2022-06'\n",
    "end = '2023-06'\n",
    "\n",
    "argo_loader = ArgoDataFetcher(src='erddap', parallel=True, qc=1)\n",
    "\n",
    "ds = argo_loader.region([lower_long, upper_long, lower_lat, upper_lat, lower_press, upper_press, start, end]).to_xarray()"
   ]
  },
  {
   "cell_type": "code",
   "execution_count": 26,
   "id": "76cb54fd-e16b-4857-8619-99d23bf4d664",
   "metadata": {},
   "outputs": [],
   "source": [
    "temp = ds['TEMP']\n",
    "\n",
    "salin = ds['PSAL']"
   ]
  },
  {
   "cell_type": "code",
   "execution_count": 27,
   "id": "da8b06d9-3c01-4d34-983c-9435b28e4100",
   "metadata": {},
   "outputs": [
    {
     "name": "stdout",
     "output_type": "stream",
     "text": [
      "<xarray.DataArray 'TEMP' (N_POINTS: 97364)>\n",
      "array([21.834, 21.875, 21.876, ..., 21.054, 21.054, 21.071], dtype=float32)\n",
      "Coordinates:\n",
      "  * N_POINTS   (N_POINTS) int64 0 1 2 3 4 5 ... 97359 97360 97361 97362 97363\n",
      "    LATITUDE   (N_POINTS) float64 31.42 31.42 31.42 31.42 ... 31.31 31.31 31.31\n",
      "    LONGITUDE  (N_POINTS) float64 -40.07 -40.07 -40.07 ... -34.08 -34.08 -34.08\n",
      "    TIME       (N_POINTS) datetime64[ns] 2023-01-06T02:28:00 ... 2023-01-05T1...\n",
      "Attributes:\n",
      "    long_name:      SEA TEMPERATURE IN SITU ITS-90 SCALE\n",
      "    standard_name:  sea_water_temperature\n",
      "    units:          degree_Celsius\n",
      "    valid_min:      -2.0\n",
      "    valid_max:      40.0\n",
      "    resolution:     0.001\n",
      "    casted:         1\n",
      "<xarray.DataArray 'PSAL' (N_POINTS: 97364)>\n",
      "array([37.207, 37.184, 37.183, ..., 36.934, 36.934, 36.942], dtype=float32)\n",
      "Coordinates:\n",
      "  * N_POINTS   (N_POINTS) int64 0 1 2 3 4 5 ... 97359 97360 97361 97362 97363\n",
      "    LATITUDE   (N_POINTS) float64 31.42 31.42 31.42 31.42 ... 31.31 31.31 31.31\n",
      "    LONGITUDE  (N_POINTS) float64 -40.07 -40.07 -40.07 ... -34.08 -34.08 -34.08\n",
      "    TIME       (N_POINTS) datetime64[ns] 2023-01-06T02:28:00 ... 2023-01-05T1...\n",
      "Attributes:\n",
      "    long_name:      PRACTICAL SALINITY\n",
      "    standard_name:  sea_water_salinity\n",
      "    units:          psu\n",
      "    valid_min:      0.0\n",
      "    valid_max:      43.0\n",
      "    resolution:     0.001\n",
      "    casted:         1\n"
     ]
    }
   ],
   "source": [
    "print(temp)\n",
    "\n",
    "print(salin)"
   ]
  },
  {
   "cell_type": "code",
   "execution_count": null,
   "id": "e73cbd49-c418-4e13-91fc-51894ffe9bae",
   "metadata": {},
   "outputs": [],
   "source": []
  }
 ],
 "metadata": {
  "kernelspec": {
   "display_name": "Python 3 (ipykernel)",
   "language": "python",
   "name": "python3"
  },
  "language_info": {
   "codemirror_mode": {
    "name": "ipython",
    "version": 3
   },
   "file_extension": ".py",
   "mimetype": "text/x-python",
   "name": "python",
   "nbconvert_exporter": "python",
   "pygments_lexer": "ipython3",
   "version": "3.9.16"
  }
 },
 "nbformat": 4,
 "nbformat_minor": 5
}
